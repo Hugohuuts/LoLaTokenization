{
 "cells": [
  {
   "cell_type": "markdown",
   "metadata": {},
   "source": [
    "# Tokenization Experiment"
   ]
  },
  {
   "cell_type": "markdown",
   "metadata": {},
   "source": [
    "## 1. Import Necessary Libraries and Packages"
   ]
  },
  {
   "cell_type": "code",
   "execution_count": 1,
   "metadata": {},
   "outputs": [],
   "source": [
    "# %pip install transformers torch datasets seaborn\n",
    "# %pip install seaborn"
   ]
  },
  {
   "cell_type": "code",
   "execution_count": 2,
   "metadata": {},
   "outputs": [
    {
     "name": "stderr",
     "output_type": "stream",
     "text": [
      "/Users/juliusbijkerk/Downloads/LoLaTokenization-main-2/.venv/lib/python3.9/site-packages/urllib3/__init__.py:35: NotOpenSSLWarning: urllib3 v2 only supports OpenSSL 1.1.1+, currently the 'ssl' module is compiled with 'LibreSSL 2.8.3'. See: https://github.com/urllib3/urllib3/issues/3020\n",
      "  warnings.warn(\n",
      "/Users/juliusbijkerk/Downloads/LoLaTokenization-main-2/.venv/lib/python3.9/site-packages/tqdm/auto.py:21: TqdmWarning: IProgress not found. Please update jupyter and ipywidgets. See https://ipywidgets.readthedocs.io/en/stable/user_install.html\n",
      "  from .autonotebook import tqdm as notebook_tqdm\n"
     ]
    }
   ],
   "source": [
    "# Import necessary libraries\n",
    "from transformers import AutoTokenizer, AutoModel"
   ]
  },
  {
   "cell_type": "markdown",
   "metadata": {},
   "source": [
    "## 2. Load Model with Default Tokenizer and Vocabulary"
   ]
  },
  {
   "cell_type": "code",
   "execution_count": 3,
   "metadata": {},
   "outputs": [],
   "source": [
    "# Specify model to load from Hugging Face\n",
    "model_name = \"bert-base-uncased\" \n",
    "\n",
    "# Load tokenizer: vocabulary and tokenization function\n",
    "tokenizer = AutoTokenizer.from_pretrained(model_name)\n",
    "\n",
    "# Load model\n",
    "model = AutoModel.from_pretrained(model_name)\n",
    "\n",
    "# Extract vocabulary from tokenizer\n",
    "vocab = tokenizer.get_vocab()"
   ]
  },
  {
   "cell_type": "markdown",
   "metadata": {},
   "source": [
    "## 3. Inspect Vocabulary"
   ]
  },
  {
   "cell_type": "code",
   "execution_count": 4,
   "metadata": {},
   "outputs": [
    {
     "name": "stdout",
     "output_type": "stream",
     "text": [
      "Vocabulary size: 30522\n",
      "Sample vocabulary items:\n",
      "('##bane', 27543)\n",
      "('##lez', 28060)\n",
      "('tod', 28681)\n",
      "('stills', 26105)\n",
      "('illusion', 12492)\n",
      "('totally', 6135)\n",
      "('##hema', 28433)\n",
      "('coincide', 19680)\n",
      "('[unused599]', 604)\n",
      "('commonly', 4141)\n"
     ]
    }
   ],
   "source": [
    "# Expected size of vocabulary V = 30522\n",
    "print(\"Vocabulary size:\", len(vocab))\n",
    "\n",
    "# Some examples of vocabulary items\n",
    "print(\"Sample vocabulary items:\")\n",
    "for item in list(vocab.items())[:10]:\n",
    "    print(item)"
   ]
  },
  {
   "cell_type": "markdown",
   "metadata": {},
   "source": [
    "## 4. Define Custom Tokenization Function"
   ]
  },
  {
   "cell_type": "markdown",
   "metadata": {},
   "source": [
    "### Define tokenization function: based on whitespace"
   ]
  },
  {
   "cell_type": "code",
   "execution_count": 10,
   "metadata": {},
   "outputs": [
    {
     "name": "stdout",
     "output_type": "stream",
     "text": [
      "Premise tokens: ['The', 'quick', 'brown', 'fox', 'jumps', 'over', 'the', 'lazy', 'dog.']\n",
      "Hypothesis tokens: ['A', 'quick', 'brown', 'dog', 'jumps', 'over', 'a', 'lazy', 'fox.']\n"
     ]
    }
   ],
   "source": [
    "from typing import Union, Tuple, List\n",
    "\n",
    "def unigram_tokenizer(premise_hypothesis: Union[Tuple[str, str], List[str]], separator_marker: str=\"\", special_space_token: str=\"\") -> Tuple[List[str], List[str]]:\n",
    "    \"\"\"\n",
    "    Tokenizes a premise-hypothesis pair from input text into unigrams (single words).\n",
    "\n",
    "    Args:\n",
    "        premise_hypothesis (Union[Tuple[str, str], List[str]]): The premise and hypothesis text to tokenize.\n",
    "        separator_marker (str): The separator marker to use for separating tokens. Defaults to an empty string.\n",
    "        special_space_token (str): The special space token to use for separating tokens. Defaults to an empty string.\n",
    "\n",
    "    Returns:\n",
    "        Tuple[List[str], List[str]]: The tokenized premise and hypothesis text\n",
    "\n",
    "    \"\"\"\n",
    "    def _tokenize_unigrams(text: str) -> List[str]:\n",
    "        words = text.split()\n",
    "        return [words[0]] + [special_space_token + separator_marker + word for word in words[1:]] if words else []\n",
    "\n",
    "    premise_tokens = _tokenize_unigrams(premise_hypothesis[0])\n",
    "    hypothesis_tokens = _tokenize_unigrams(premise_hypothesis[1])\n",
    "\n",
    "    return premise_tokens, hypothesis_tokens\n",
    "\n",
    "\n",
    "# Test the unigram_tokenizer function\n",
    "premise_hypothesis = (\"The quick brown fox jumps over the lazy dog.\", \"A quick brown dog jumps over a lazy fox.\")\n",
    "premise_tokens, hypothesis_tokens = unigram_tokenizer(premise_hypothesis)\n",
    "print(\"Premise tokens:\", premise_tokens)\n",
    "print(\"Hypothesis tokens:\", hypothesis_tokens)"
   ]
  },
  {
   "cell_type": "markdown",
   "metadata": {},
   "source": [
    "### Or load it from a separate Python file where the function is defined"
   ]
  },
  {
   "cell_type": "code",
   "execution_count": 11,
   "metadata": {},
   "outputs": [
    {
     "name": "stdout",
     "output_type": "stream",
     "text": [
      "Premise tokens: ['The', 'quick', 'brown', 'fox', 'jumps', 'over', 'the', 'lazy', 'dog.']\n",
      "Hypothesis tokens: ['A', 'quick', 'brown', 'dog', 'jumps', 'over', 'a', 'lazy', 'fox.']\n"
     ]
    }
   ],
   "source": [
    "# Or load it as a predefined function from our length_tokenization.py file\n",
    "from tokenization_methods.length_tokenizer import unigram_tokenizer\n",
    "\n",
    "# Test the unigram_tokenizer function\n",
    "premise_hypothesis = (\"The quick brown fox jumps over the lazy dog.\", \"A quick brown dog jumps over a lazy fox.\")\n",
    "premise_tokens, hypothesis_tokens = unigram_tokenizer(premise_hypothesis)\n",
    "print(\"Premise tokens:\", premise_tokens)\n",
    "print(\"Hypothesis tokens:\", hypothesis_tokens)\n"
   ]
  },
  {
   "cell_type": "markdown",
   "metadata": {},
   "source": [
    "## 5. Load and Split Dataset"
   ]
  },
  {
   "cell_type": "code",
   "execution_count": 12,
   "metadata": {},
   "outputs": [
    {
     "name": "stdout",
     "output_type": "stream",
     "text": [
      "Dataset({\n",
      "    features: ['premise', 'hypothesis', 'label'],\n",
      "    num_rows: 10000\n",
      "})\n",
      "{'premise': 'This church choir sings to the masses as they sing joyous songs from the book at a church.', 'hypothesis': 'The church has cracks in the ceiling.', 'label': 1}\n"
     ]
    }
   ],
   "source": [
    "from datasets import load_dataset\n",
    "\n",
    "# Load dataset\n",
    "dataset = load_dataset(\"snli\")\n",
    "\n",
    "# Access train, validation, and test splits\n",
    "train_data = dataset[\"train\"]\n",
    "validation_data = dataset[\"validation\"]\n",
    "test_data = dataset[\"test\"]\n",
    "\n",
    "# Split test data into premises and hypotheses\n",
    "test_premises = test_data[\"premise\"]\n",
    "test_hypotheses = test_data[\"hypothesis\"]\n",
    "\n",
    "print(test_data)\n",
    "print(test_data[0])"
   ]
  },
  {
   "cell_type": "code",
   "execution_count": 15,
   "metadata": {},
   "outputs": [
    {
     "name": "stdout",
     "output_type": "stream",
     "text": [
      "Dataset({\n",
      "    features: ['premise', 'hypothesis', 'label'],\n",
      "    num_rows: 10000\n",
      "})\n",
      "\n",
      "\n",
      "Label names:\n",
      "{-1: '-1: no label', 0: '0: entailment', 1: '1: neutral', 2: '2: contradiction'}\n",
      "\n",
      "\n",
      "('This church choir sings to the masses as they sing joyous songs from the book at a church.', 'The church has cracks in the ceiling.', 1)\n",
      "('This church choir sings to the masses as they sing joyous songs from the book at a church.', 'The church is filled with song.', 0)\n",
      "('This church choir sings to the masses as they sing joyous songs from the book at a church.', 'A choir singing at a baseball game.', 2)\n",
      "('A woman with a green headscarf, blue shirt and a very big grin.', 'The woman is young.', 1)\n",
      "('A woman with a green headscarf, blue shirt and a very big grin.', 'The woman is very happy.', 0)\n",
      "('A woman with a green headscarf, blue shirt and a very big grin.', 'The woman has been shot.', 2)\n"
     ]
    }
   ],
   "source": [
    "# Show test_data information\n",
    "print(test_data)\n",
    "print(\"\\n\")\n",
    "\n",
    "# Conversion table for labels\n",
    "conversion_table = {-1: '-1: no label', 0: '0: entailment', 1: '1: neutral', 2: '2: contradiction'}\n",
    "print(\"Label names:\")\n",
    "print(conversion_table)\n",
    "print(\"\\n\")\n",
    "\n",
    "# Split test data into premises and hypotheses\n",
    "test_premises = test_data[\"premise\"]\n",
    "test_hypotheses = test_data[\"hypothesis\"]\n",
    "test_labels = test_data[\"label\"]\n",
    "\n",
    "# Display the first 5 examples \n",
    "zipped_data = list(zip(test_premises, test_hypotheses, test_labels))\n",
    "for example in zipped_data[:6]:\n",
    "    print(example)"
   ]
  },
  {
   "cell_type": "markdown",
   "metadata": {},
   "source": [
    "## 6. Inspect Dataset"
   ]
  },
  {
   "cell_type": "code",
   "execution_count": 19,
   "metadata": {},
   "outputs": [
    {
     "name": "stdout",
     "output_type": "stream",
     "text": [
      "Train length: 550152\n",
      "Validation length: 10000\n",
      "Test length: 10000\n",
      "First example from the test set:\n",
      "1st Example Premise: This church choir sings to the masses as they sing joyous songs from the book at a church.\n",
      "1st Example Hypothesis: The church has cracks in the ceiling.\n",
      "Number of examples in the test set: 10000\n"
     ]
    },
    {
     "data": {
      "image/png": "[encoded data removed]",
      "text/plain": [
       "<Figure size 640x480 with 1 Axes>"
      ]
     },
     "metadata": {},
     "output_type": "display_data"
    }
   ],
   "source": [
    "import seaborn as sns\n",
    "import matplotlib.pyplot as plt\n",
    "from collections import Counter\n",
    "\n",
    "# Lengths of train, validation, and test splits\n",
    "print(\"Train length:\", len(train_data))\n",
    "print(\"Validation length:\", len(validation_data))\n",
    "print(\"Test length:\", len(test_data))\n",
    "\n",
    "# Display the first example from the test set\n",
    "print(\"First example from the test set:\")\n",
    "print(\"1st Example Premise:\", test_data[0]['premise'])\n",
    "print(\"1st Example Hypothesis:\", test_data[0]['hypothesis'])\n",
    "\n",
    "# Display the number of examples in the test set\n",
    "print(\"Number of examples in the test set:\", len(test_data))\n",
    "\n",
    "# Display the distribution of labels in the test set\n",
    "label_counts = test_data[\"label\"]\n",
    "\n",
    "# Count the frequency of each unique value\n",
    "counter = Counter(label_counts)\n",
    "\n",
    "# Extract the unique values and their counts\n",
    "labels, counts = zip(*counter.items())\n",
    "\n",
    "# Plot distribution of labels\n",
    "plt.bar(labels, counts)\n",
    "plt.xlabel('Unique Labels')\n",
    "plt.ylabel('Frequency')\n",
    "plt.title('Distribution of Unique Values')\n",
    "labels_text = [conversion_table[label] for label in labels]\n",
    "plt.xticks(labels, labels_text)\n",
    "plt.show()"
   ]
  },
  {
   "cell_type": "markdown",
   "metadata": {},
   "source": [
    "## 5. Apply Custom Tokenizer"
   ]
  },
  {
   "cell_type": "code",
   "execution_count": 20,
   "metadata": {},
   "outputs": [
    {
     "name": "stdout",
     "output_type": "stream",
     "text": [
      "Premise tokens: ['This', 'church', 'choir', 'sings', 'to', 'the', 'masses', 'as', 'they', 'sing', 'joyous', 'songs', 'from', 'the', 'book', 'at', 'a', 'church.']\n",
      "Hypothesis tokens: ['The', 'church', 'has', 'cracks', 'in', 'the', 'ceiling.']\n"
     ]
    }
   ],
   "source": [
    "# Apply custom tokenizer on snli test data\n",
    "premise_hypothesis = (test_data[0]['premise'], test_data[0]['hypothesis'])\n",
    "premise_tokens, hypothesis_tokens = unigram_tokenizer(premise_hypothesis)\n",
    "print(\"Premise tokens:\", premise_tokens)\n",
    "print(\"Hypothesis tokens:\", hypothesis_tokens)\n",
    "\n",
    "# Use the result on the model to make a prediction"
   ]
  },
  {
   "cell_type": "markdown",
   "metadata": {},
   "source": [
    "## 6. Apply Default Tokenizer"
   ]
  },
  {
   "cell_type": "code",
   "execution_count": 23,
   "metadata": {},
   "outputs": [
    {
     "name": "stdout",
     "output_type": "stream",
     "text": [
      "Premise tokens: ['this', 'church', 'choir', 'sings', 'to', 'the', 'masses', 'as', 'they', 'sing', 'joy', '##ous', 'songs', 'from', 'the', 'book', 'at', 'a', 'church', '.']\n",
      "Hypothesis tokens: ['the', 'church', 'has', 'cracks', 'in', 'the', 'ceiling', '.']\n"
     ]
    }
   ],
   "source": [
    "# Apply default tokenizer on SNLI test data\n",
    "premise_hypothesis = (test_data[0]['premise'], test_data[0]['hypothesis'])\n",
    "premise_tokens = tokenizer.tokenize(premise_hypothesis[0])\n",
    "hypothesis_tokens = tokenizer.tokenize(premise_hypothesis[1])\n",
    "print(\"Premise tokens:\", premise_tokens)\n",
    "print(\"Hypothesis tokens:\", hypothesis_tokens)"
   ]
  },
  {
   "cell_type": "markdown",
   "metadata": {},
   "source": [
    "## 7. Compare Tokenizer Results: Custom vs. Default"
   ]
  },
  {
   "cell_type": "code",
   "execution_count": 24,
   "metadata": {},
   "outputs": [
    {
     "name": "stdout",
     "output_type": "stream",
     "text": [
      "Custom tokenizer tokens: ['this', 'church', 'choir', 'sings', 'to', 'the', 'masses', 'as', 'they', 'sing', 'joy', '##ous', 'songs', 'from', 'the', 'book', 'at', 'a', 'church', '.'] ['the', 'church', 'has', 'cracks', 'in', 'the', 'ceiling', '.']\n",
      "Default tokenizer tokens: ['this', 'church', 'choir', 'sings', 'to', 'the', 'masses', 'as', 'they', 'sing', 'joy', '##ous', 'songs', 'from', 'the', 'book', 'at', 'a', 'church', '.'] ['the', 'church', 'has', 'cracks', 'in', 'the', 'ceiling', '.']\n"
     ]
    }
   ],
   "source": [
    "# Compare the tokenization results of the custom and default tokenizers\n",
    "print(\"Custom tokenizer tokens:\", premise_tokens, hypothesis_tokens)\n",
    "print(\"Default tokenizer tokens:\", premise_tokens, hypothesis_tokens)"
   ]
  }
 ],
 "metadata": {
  "kernelspec": {
   "display_name": ".venv",
   "language": "python",
   "name": "python3"
  },
  "language_info": {
   "codemirror_mode": {
    "name": "ipython",
    "version": 3
   },
   "file_extension": ".py",
   "mimetype": "text/x-python",
   "name": "python",
   "nbconvert_exporter": "python",
   "pygments_lexer": "ipython3",
   "version": "3.9.6"
  }
 },
 "nbformat": 4,
 "nbformat_minor": 2
}
