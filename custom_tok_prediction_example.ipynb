{
 "cells": [
  {
   "cell_type": "code",
   "execution_count": 1,
   "metadata": {},
   "outputs": [
    {
     "name": "stderr",
     "output_type": "stream",
     "text": [
      "[nltk_data] Downloading package words to /home/keddie/nltk_data...\n",
      "[nltk_data]   Package words is already up-to-date!\n"
     ]
    }
   ],
   "source": [
    "import torch\n",
    "from transformers import AutoTokenizer\n",
    "from custom_models import load_custom_class\n",
    "import seaborn as sns\n",
    "from tokenizers_pos import *\n",
    "import matplotlib.pyplot as plt\n",
    "\n",
    "# sub class from modelling_bert \"RobertaForSequenceClassification\" and override the forward method\n",
    "device = torch.device(\"cuda:0\" if torch.cuda.is_available() else \"cpu\")"
   ]
  },
  {
   "cell_type": "code",
   "execution_count": 2,
   "metadata": {},
   "outputs": [],
   "source": [
    "# repo_link_nli = \"cross-encoder/nli-distilroberta-base\"\n",
    "# repo_link_nli = \"sentence-transformers/nli-bert-base\"\n",
    "repo_link_nli = \"cross-encoder/nli-MiniLM2-L6-H768\"\n",
    "\n",
    "\n",
    "model_args = {}\n",
    "\n",
    "tokenizer_nli, model_nli = load_custom_class(repo_link_nli, device, **model_args)"
   ]
  },
  {
   "cell_type": "code",
   "execution_count": 3,
   "metadata": {},
   "outputs": [],
   "source": [
    "# python eval_scripts.py --path \"data/multinli_1.0/multinli_1.0_dev_mismatched.jsonl\" --tok_method adj --model roberta --do_custom true\n",
    "# python eval_scripts.py --path \"data/snli_1.0/snli_1.0_test.jsonl\" --tok_method adj --model roberta --do_custom true\n",
    "import json\n",
    "\n",
    "data = {\n",
    "    \"label\": [],\n",
    "    \"sent1\": [],\n",
    "    \"sent2\": []\n",
    "}\n",
    "# data_path = \"data/multinli_1.0/multinli_1.0_dev_mismatched.jsonl\"\n",
    "data_path = \"data/snli_1.0/snli_1.0_test.jsonl\"\n",
    "with open(data_path, \"r\") as file:\n",
    "    for line in file:\n",
    "        aux_dict = json.loads(line)\n",
    "        data[\"label\"] += [aux_dict[\"gold_label\"]]\n",
    "        data[\"sent1\"] += [aux_dict[\"sentence1\"]] # premise\n",
    "        data[\"sent2\"] += [aux_dict[\"sentence2\"]] # hypothesis"
   ]
  },
  {
   "cell_type": "code",
   "execution_count": 4,
   "metadata": {},
   "outputs": [],
   "source": [
    "vocabulary_id2tok = {tok_id:tok for tok, tok_id in tokenizer_nli.vocab.items()}\n",
    "test_nli = [\n",
    "    (\"the cat is large. an ant is small.\", \"the cat is bigger than the ant.\", \"entailment\"),\n",
    "    (\"dumbo is by the tree and is not small. bambi is an animal that is not large and is hungry.\", \"dumbo is not smaller than bambi.\", \"neutral\")\n",
    "    ]"
   ]
  },
  {
   "cell_type": "code",
   "execution_count": 5,
   "metadata": {},
   "outputs": [
    {
     "name": "stdout",
     "output_type": "stream",
     "text": [
      "Tensors and operations will be done on cuda:0.\n"
     ]
    }
   ],
   "source": [
    "from custom_tokenizer_abstract import CustomTokenizerGeneral\n",
    "from example_tokenization import custom_tokenization\n",
    "from tokenizers_pos import *\n",
    "\n",
    "separator = \"\"\n",
    "special_space_token = \"Ġ\"\n",
    "\n",
    "custom_tokenizer = CustomTokenizerGeneral(tokenizer_nli, verb_tokenizer, separator=separator, special_space_token=special_space_token)\n",
    "# custom_tokenizer = CustomTokenizerGeneral(tokenizer_nli, verb_tokenizer, separator=\"##\", special_space_token=\"\")\n",
    "out = custom_tokenizer((data[\"sent1\"][4], data[\"sent2\"][4]))[\"input_ids\"]"
   ]
  },
  {
   "cell_type": "code",
   "execution_count": 11,
   "metadata": {},
   "outputs": [
    {
     "name": "stdout",
     "output_type": "stream",
     "text": [
      "Tensors and operations will be done on cuda:0.\n"
     ]
    },
    {
     "name": "stderr",
     "output_type": "stream",
     "text": [
      "100%|██████████| 10000/10000 [01:15<00:00, 133.26it/s]\n"
     ]
    },
    {
     "name": "stdout",
     "output_type": "stream",
     "text": [
      "Tensors and operations will be done on cuda:0.\n"
     ]
    },
    {
     "name": "stderr",
     "output_type": "stream",
     "text": [
      "100%|██████████| 10000/10000 [01:14<00:00, 134.46it/s]\n"
     ]
    },
    {
     "name": "stdout",
     "output_type": "stream",
     "text": [
      "Tensors and operations will be done on cuda:0.\n"
     ]
    },
    {
     "name": "stderr",
     "output_type": "stream",
     "text": [
      "100%|██████████| 10000/10000 [01:13<00:00, 135.65it/s]\n"
     ]
    },
    {
     "name": "stdout",
     "output_type": "stream",
     "text": [
      "Tensors and operations will be done on cuda:0.\n"
     ]
    },
    {
     "name": "stderr",
     "output_type": "stream",
     "text": [
      "100%|██████████| 10000/10000 [00:01<00:00, 6700.73it/s]\n"
     ]
    }
   ],
   "source": [
    "from tqdm import tqdm\n",
    "limit = 0\n",
    "custom_tokenizer = CustomTokenizerGeneral(tokenizer_nli, verb_tokenizer, separator=separator, special_space_token=special_space_token)\n",
    "for p, h in tqdm(zip(data[\"sent1\"][limit:], data[\"sent2\"][limit:]), total=len(data[\"sent2\"][limit:])):\n",
    "    assert len(custom_tokenizer((p,h), do_lowercase=True)[\"input_ids\"][0]) <= 512, (p,h)\n",
    "custom_tokenizer = CustomTokenizerGeneral(tokenizer_nli, adjective_tokenizer, separator=separator, special_space_token=special_space_token)\n",
    "for p, h in tqdm(zip(data[\"sent1\"][limit:], data[\"sent2\"][limit:]), total=len(data[\"sent2\"][limit:])):\n",
    "    assert len(custom_tokenizer((p,h), do_lowercase=True)[\"input_ids\"][0]) <= 512, (p,h)\n",
    "custom_tokenizer = CustomTokenizerGeneral(tokenizer_nli, noun_tokenizer, separator=separator, special_space_token=special_space_token)\n",
    "for p, h in tqdm(zip(data[\"sent1\"][limit:], data[\"sent2\"][limit:]), total=len(data[\"sent2\"][limit:])):\n",
    "    assert len(custom_tokenizer((p,h), do_lowercase=True)[\"input_ids\"][0]) <= 512, (p,h)\n",
    "custom_tokenizer = CustomTokenizerGeneral(tokenizer_nli, custom_tokenization, separator=separator, special_space_token=special_space_token)\n",
    "for p, h in tqdm(zip(data[\"sent1\"][limit:], data[\"sent2\"][limit:]), total=len(data[\"sent2\"][limit:])):\n",
    "    assert len(custom_tokenizer((p,h), do_lowercase=True)[\"input_ids\"][0]) <= 512, (p,h, len(custom_tokenizer((p,h), do_lowercase=True)[\"input_ids\"][0]))"
   ]
  },
  {
   "cell_type": "code",
   "execution_count": 7,
   "metadata": {},
   "outputs": [
    {
     "name": "stdout",
     "output_type": "stream",
     "text": [
      "[101, 1996, 4937, 2003, 2312, 1012, 2019, 14405, 2003, 2235, 1012, 102, 1996, 4937, 2003, 7046, 2084, 1996, 14405, 1012, 102]\n",
      "[101, 12873, 2080, 2003, 2011, 1996, 3392, 1998, 2003, 2025, 2235, 1012, 25307, 5638, 2003, 2019, 4111, 2008, 2003, 2025, 2312, 1998, 2003, 7501, 1012, 102, 12873, 2080, 2003, 2025, 3760, 2084, 25307, 5638, 1012, 102]\n"
     ]
    },
    {
     "name": "stderr",
     "output_type": "stream",
     "text": [
      "/home/keddie/Desktop/2024-2025/LoLa/Project/custom_tokenizer_abstract.py:69: UserWarning: \u001b[31mWarning: 'dumbo' was not found in the original tokenizer's vocabulary; 'dumbo' will be split into '['dumb', '##o']' using the original tokenizer.\u001b[0m\n",
      "  aux_token_list += self.get_token_id(token)\n",
      "/home/keddie/Desktop/2024-2025/LoLa/Project/custom_tokenizer_abstract.py:69: UserWarning: \u001b[31mWarning: ' by' was not found in the original tokenizer's vocabulary; ' by' will be split into '['by']' using the original tokenizer.\u001b[0m\n",
      "  aux_token_list += self.get_token_id(token)\n",
      "/home/keddie/Desktop/2024-2025/LoLa/Project/custom_tokenizer_abstract.py:69: UserWarning: \u001b[31mWarning: ' tree' was not found in the original tokenizer's vocabulary; ' tree' will be split into '['tree']' using the original tokenizer.\u001b[0m\n",
      "  aux_token_list += self.get_token_id(token)\n",
      "/home/keddie/Desktop/2024-2025/LoLa/Project/custom_tokenizer_abstract.py:69: UserWarning: \u001b[31mWarning: ' and' was not found in the original tokenizer's vocabulary; ' and' will be split into '['and']' using the original tokenizer.\u001b[0m\n",
      "  aux_token_list += self.get_token_id(token)\n",
      "/home/keddie/Desktop/2024-2025/LoLa/Project/custom_tokenizer_abstract.py:69: UserWarning: \u001b[31mWarning: ' not' was not found in the original tokenizer's vocabulary; ' not' will be split into '['not']' using the original tokenizer.\u001b[0m\n",
      "  aux_token_list += self.get_token_id(token)\n",
      "/home/keddie/Desktop/2024-2025/LoLa/Project/custom_tokenizer_abstract.py:69: UserWarning: \u001b[31mWarning: ' bambi' was not found in the original tokenizer's vocabulary; ' bambi' will be split into '['bam', '##bi']' using the original tokenizer.\u001b[0m\n",
      "  aux_token_list += self.get_token_id(token)\n",
      "/home/keddie/Desktop/2024-2025/LoLa/Project/custom_tokenizer_abstract.py:69: UserWarning: \u001b[31mWarning: ' animal' was not found in the original tokenizer's vocabulary; ' animal' will be split into '['animal']' using the original tokenizer.\u001b[0m\n",
      "  aux_token_list += self.get_token_id(token)\n",
      "/home/keddie/Desktop/2024-2025/LoLa/Project/custom_tokenizer_abstract.py:69: UserWarning: \u001b[31mWarning: ' that' was not found in the original tokenizer's vocabulary; ' that' will be split into '['that']' using the original tokenizer.\u001b[0m\n",
      "  aux_token_list += self.get_token_id(token)\n",
      "/home/keddie/Desktop/2024-2025/LoLa/Project/custom_tokenizer_abstract.py:69: UserWarning: \u001b[31mWarning: ' hungry' was not found in the original tokenizer's vocabulary; ' hungry' will be split into '['hungry']' using the original tokenizer.\u001b[0m\n",
      "  aux_token_list += self.get_token_id(token)\n",
      "/home/keddie/Desktop/2024-2025/LoLa/Project/custom_tokenizer_abstract.py:69: UserWarning: \u001b[31mWarning: ' smaller' was not found in the original tokenizer's vocabulary; ' smaller' will be split into '['smaller']' using the original tokenizer.\u001b[0m\n",
      "  aux_token_list += self.get_token_id(token)\n"
     ]
    }
   ],
   "source": [
    "from collections import defaultdict\n",
    "\n",
    "def run_single_experiment(premise_hypothesis_test):\n",
    "    prob_list = defaultdict(list)\n",
    "    granular_pred = get_prediction(premise_hypothesis_test, model_nli, custom_tokenizer)\n",
    "    for label, prob in granular_pred[\"all_probs\"].items():\n",
    "        prob_list[label] += [prob]\n",
    "    prob_list[\"pred_label\"] += [granular_pred[\"label\"]]\n",
    "\n",
    "    return prob_list\n",
    "\n",
    "results = []\n",
    "for idx, problem in enumerate(test_nli):\n",
    "    results += [(run_single_experiment(problem[:2]), problem[-1])]"
   ]
  },
  {
   "cell_type": "code",
   "execution_count": 8,
   "metadata": {},
   "outputs": [
    {
     "data": {
      "text/plain": [
       "[(defaultdict(list,\n",
       "              {'LABEL_1': [0.5144256949424744],\n",
       "               'LABEL_0': [0.485574334859848],\n",
       "               'pred_label': ['LABEL_1']}),\n",
       "  'entailment'),\n",
       " (defaultdict(list,\n",
       "              {'LABEL_0': [0.5117776989936829],\n",
       "               'LABEL_1': [0.48822230100631714],\n",
       "               'pred_label': ['LABEL_0']}),\n",
       "  'neutral')]"
      ]
     },
     "execution_count": 8,
     "metadata": {},
     "output_type": "execute_result"
    }
   ],
   "source": [
    "results"
   ]
  }
 ],
 "metadata": {
  "kernelspec": {
   "display_name": "facilex_caselaw",
   "language": "python",
   "name": "python3"
  },
  "language_info": {
   "codemirror_mode": {
    "name": "ipython",
    "version": 3
   },
   "file_extension": ".py",
   "mimetype": "text/x-python",
   "name": "python",
   "nbconvert_exporter": "python",
   "pygments_lexer": "ipython3",
   "version": "3.11.5"
  }
 },
 "nbformat": 4,
 "nbformat_minor": 2
}
