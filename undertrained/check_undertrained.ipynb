{
 "cells": [
  {
   "cell_type": "code",
   "execution_count": 38,
   "metadata": {},
   "outputs": [],
   "source": [
    "import json\n",
    "import re\n",
    "\n",
    "def read_jsonl(file_name):\n",
    "    with open(file_name, \"r\") as file:\n",
    "        tokens = []\n",
    "        for line in file:\n",
    "            tokens += [json.loads(line)]\n",
    "\n",
    "    return tokens\n",
    "\n",
    "def load_data(file_name):\n",
    "    data = {}\n",
    "    with open(file_name, \"r\") as file:\n",
    "        for line in file:\n",
    "            aux_dict = json.loads(line)\n",
    "            dict_result = {\n",
    "                \"id\": aux_dict[\"id\"],\n",
    "                \"label\": aux_dict[\"result\"][\"label\"],\n",
    "                \"prob\": aux_dict[\"result\"][\"prob\"],\n",
    "                \"all_prob\": aux_dict[\"result\"][\"all_prob\"],\n",
    "            }\n",
    "            data[dict_result[\"id\"]] = dict_result\n",
    "            \n",
    "    return data\n",
    "\n",
    "models = [\n",
    "    \"cross_encoder_nli_distilroberta_base\",\n",
    "    \"cross_encoder_nli_MiniLM2_L6_H768\",\n",
    "    \"ynie_bart_large_snli_mnli_fever_anli_R1_R2_R3_nli\"\n",
    "]\n",
    "\n",
    "data_paths = [\n",
    "    \"../data/multinli_1.0/multinli_1.0_dev_mismatched.jsonl\",\n",
    "    \"../data/multinli_1.0/multinli_1.0_dev_matched.jsonl\",\n",
    "    \"../data/snli_1.0/snli_1.0_test.jsonl\",\n",
    "]\n",
    "\n",
    "MODEL_MAP = {\n",
    "    \"cross_encoder_nli_distilroberta_base\": \"roberta\",\n",
    "    \"cross_encoder_nli_MiniLM2_L6_H768\": \"minilm\",\n",
    "    \"ynie_bart_large_snli_mnli_fever_anli_R1_R2_R3_nli\": \"bart\"\n",
    "}"
   ]
  },
  {
   "cell_type": "code",
   "execution_count": 39,
   "metadata": {},
   "outputs": [],
   "source": [
    "undertrained_presence = {\n",
    "    \"dataset\": [],\n",
    "    \"model\": [],\n",
    "    \"sentence_idx\": [],\n",
    "    \"shared_tokens\": [],\n",
    "    \"sentence\": [],\n",
    "    \"undertrained_tokens\": [],\n",
    "    \"original_label\": [],\n",
    "    \"predicted_label\": []\n",
    "}\n",
    "\n",
    "for data_path in data_paths:\n",
    "    data = {\n",
    "        \"label\": [],\n",
    "        \"sent1\": [],\n",
    "        \"sent2\": [],\n",
    "        \"sent_combined\": []\n",
    "    }\n",
    "    dataset_name = data_path.split(\"/\")[-1][:-6]\n",
    "    with open(data_path, \"r\") as file:\n",
    "        for line in file:\n",
    "            aux_dict = json.loads(line)\n",
    "            data[\"label\"] += [aux_dict[\"gold_label\"]]\n",
    "            data[\"sent1\"] += [aux_dict[\"sentence1\"]] # premise\n",
    "            data[\"sent2\"] += [aux_dict[\"sentence2\"]] # hypothesis\n",
    "            data[\"sent_combined\"] += [aux_dict[\"sentence1\"] + \" \" + aux_dict[\"sentence2\"]]\n",
    "    results_file = f\"../results/{MODEL_MAP[model]}/{dataset_name}-standard-{MODEL_MAP[model]}.jsonl\"\n",
    "    predicted_results = load_data(results_file)\n",
    "    for model in models:\n",
    "        file_name = f\"undertrained_{model}.jsonl\"    \n",
    "        tokens = read_jsonl(file_name)\n",
    "        tokens = set([tok[\"decoded\"] for tok in tokens])\n",
    "        for idx, (sentence, original_label) in enumerate(zip(data[\"sent_combined\"], data[\"label\"])):\n",
    "            sentence_text = sentence\n",
    "            sentence = re.split(r\"( ?[\\w]+)([!\\\"\\#$%&\\'()*+,-\\.\\/:;<=>?@[\\\\\\]^_`{|}~])?\", sentence)\n",
    "            sentence = set([tok.strip() for tok in sentence if tok not in  (\"\", \" \", None)])\n",
    "            if len(sentence & tokens) > 0:\n",
    "                undertrained_presence[\"dataset\"] += [dataset_name]\n",
    "                undertrained_presence[\"sentence\"] += [sentence_text]\n",
    "                undertrained_presence[\"undertrained_tokens\"] += [tokens]\n",
    "                undertrained_presence[\"shared_tokens\"] += [sentence & tokens]       \n",
    "                undertrained_presence[\"sentence_idx\"] += [idx] \n",
    "                undertrained_presence[\"model\"] += [model] \n",
    "                undertrained_presence[\"original_label\"] += [original_label]\n",
    "                undertrained_presence[\"predicted_label\"] += [predicted_results[idx][\"label\"]]\n",
    "            "
   ]
  },
  {
   "cell_type": "code",
   "execution_count": null,
   "metadata": {},
   "outputs": [],
   "source": [
    "import pandas as pd\n",
    "\n",
    "df = pd.DataFrame(undertrained_presence)"
   ]
  },
  {
   "cell_type": "code",
   "execution_count": 44,
   "metadata": {},
   "outputs": [
    {
     "data": {
      "text/plain": [
       "0.8322851153039832"
      ]
     },
     "execution_count": 44,
     "metadata": {},
     "output_type": "execute_result"
    }
   ],
   "source": [
    "sum(df[\"original_label\"] == df[\"predicted_label\"])/len(df)"
   ]
  },
  {
   "cell_type": "code",
   "execution_count": 49,
   "metadata": {},
   "outputs": [
    {
     "name": "stdout",
     "output_type": "stream",
     "text": [
      "roberta for contradiction accuracy=0.8235294117647058\n",
      "roberta for neutral accuracy=0.8476190476190476\n",
      "roberta for entailment accuracy=0.8715596330275229\n",
      "---------------\n",
      "minilm for contradiction accuracy=0.8648648648648649\n",
      "minilm for neutral accuracy=0.926829268292683\n",
      "minilm for entailment accuracy=0.85\n",
      "---------------\n",
      "bart for contradiction accuracy=0.7777777777777778\n",
      "bart for neutral accuracy=0.9090909090909091\n",
      "bart for entailment accuracy=0.7272727272727273\n",
      "---------------\n"
     ]
    }
   ],
   "source": [
    "for model in MODEL_MAP.keys():\n",
    "    for label in df[\"predicted_label\"].unique():\n",
    "        aux_df = df[(df[\"model\"] == model) & (df[\"original_label\"] == label)]\n",
    "        print(f\"{MODEL_MAP[model]} for {label} accuracy={sum(aux_df['original_label'] == aux_df['predicted_label'])/len(aux_df)}\")\n",
    "    print(\"---------------\")"
   ]
  }
 ],
 "metadata": {
  "kernelspec": {
   "display_name": "facilex_caselaw",
   "language": "python",
   "name": "python3"
  },
  "language_info": {
   "codemirror_mode": {
    "name": "ipython",
    "version": 3
   },
   "file_extension": ".py",
   "mimetype": "text/x-python",
   "name": "python",
   "nbconvert_exporter": "python",
   "pygments_lexer": "ipython3",
   "version": "3.11.5"
  }
 },
 "nbformat": 4,
 "nbformat_minor": 2
}
