{
 "cells": [
  {
   "cell_type": "code",
   "execution_count": 1,
   "metadata": {},
   "outputs": [],
   "source": [
    "import seaborn as sns\n",
    "import matplotlib.pyplot as plt\n",
    "\n",
    "from collections import defaultdict\n",
    "import numpy as np\n",
    "\n",
    "def get_labels_number(res_dict: dict):\n",
    "    labels_model_custom = defaultdict(int)\n",
    "    for label in res_dict[\"label\"]:\n",
    "        labels_model_custom[label] += 1\n",
    "    labels_model_custom = dict(sorted(labels_model_custom.items(), key=lambda x:x[0]))\n",
    "    labels_model_custom = {label: round(val/len(res_dict[\"label\"]) * 100,2) for label, val in labels_model_custom.items()}\n",
    "    # print(labels_model_custom)\n",
    "    return labels_model_custom\n",
    "\n",
    "import json\n",
    "\n",
    "def load_data(file_name):\n",
    "    data = {\n",
    "            \"id\": [],\n",
    "            \"label\": [],\n",
    "            \"prob\": [],\n",
    "            \"all_prob\": []\n",
    "    }\n",
    "    with open(file_name, \"r\") as file:\n",
    "        for line in file:\n",
    "            aux_dict = json.loads(line)\n",
    "            \n",
    "            data[\"id\"] += [aux_dict[\"id\"]]\n",
    "            data[\"label\"] += [aux_dict[\"result\"][\"label\"]]\n",
    "            data[\"prob\"] += [aux_dict[\"result\"][\"prob\"]]\n",
    "            data[\"all_prob\"] += [aux_dict[\"result\"][\"all_prob\"]]\n",
    "\n",
    "    return data"
   ]
  },
  {
   "cell_type": "code",
   "execution_count": 15,
   "metadata": {},
   "outputs": [
    {
     "name": "stdout",
     "output_type": "stream",
     "text": [
      "(10000, 3)\n"
     ]
    },
    {
     "data": {
      "text/plain": [
       "{'-': 1.76, 'contradiction': 32.37, 'entailment': 33.68, 'neutral': 32.19}"
      ]
     },
     "execution_count": 15,
     "metadata": {},
     "output_type": "execute_result"
    }
   ],
   "source": [
    "import json\n",
    "import pandas as pd\n",
    "\n",
    "# data_path = \"data/\" + \"/multinli_1.0\" + \"/multinli_1.0_dev_mismatched.jsonl\"\n",
    "# data_path = \"data/\" + \"/multinli_1.0\" + \"/multinli_1.0_dev_matched.jsonl\"\n",
    "data_path = \"data/\" + \"/snli_1.0\" + \"/snli_1.0_test.jsonl\"\n",
    "\n",
    "data = []\n",
    "limit = 500_000\n",
    "with open(data_path, \"r\") as file:\n",
    "    for _ in range(limit):\n",
    "        json_obj = file.readline()\n",
    "        if json_obj != \"\":\n",
    "            data += [json.loads(json_obj)]\n",
    "        else:\n",
    "            break\n",
    "\n",
    "data_df = {\n",
    "    \"label\": [],\n",
    "    \"sent1\": [],\n",
    "    \"sent2\": []\n",
    "}\n",
    "\n",
    "for datum in data:\n",
    "    data_df[\"label\"] += [datum[\"gold_label\"]]\n",
    "    data_df[\"sent1\"] += [datum[\"sentence1\"]] # premise\n",
    "    data_df[\"sent2\"] += [datum[\"sentence2\"]] # hypothesis\n",
    "\n",
    "data_df = pd.DataFrame(data_df)\n",
    "print(data_df.shape)\n",
    "data_df.head()\n",
    "\n",
    "gt_labels=data_df[\"label\"].to_numpy()\n",
    "gt_labels_num = data_df[\"label\"].value_counts().to_dict()\n",
    "\n",
    "gt_labels_num = dict(sorted(gt_labels_num.items(), key=lambda x:x[0]))\n",
    "gt_labels_num = {label: round(val/len(gt_labels) * 100, 2) for label, val in gt_labels_num.items()}\n",
    "gt_labels_num"
   ]
  },
  {
   "cell_type": "code",
   "execution_count": 34,
   "metadata": {},
   "outputs": [],
   "source": [
    "def per_label_accuracy(original_labels, predicted_labels, label):\n",
    "    label_mask = original_labels == label\n",
    "    original_labels = original_labels[label_mask]\n",
    "    predicted_labels = predicted_labels[label_mask]\n",
    "\n",
    "    return round(sum(original_labels == predicted_labels)/len(original_labels),2)"
   ]
  },
  {
   "cell_type": "code",
   "execution_count": 35,
   "metadata": {},
   "outputs": [
    {
     "name": "stdout",
     "output_type": "stream",
     "text": [
      "unigram_tokenizer-minilm.jsonl \tAccuracy=0.8944\tDist={'contradiction': 32.67, 'entailment': 34.41, 'neutral': 32.92} (100.0)\t0.93/0.92/0.88\n",
      "-----------------------------------------\n",
      "greedy_prefix_tokenization-minilm.jsonl \tAccuracy=0.4391\tDist={'contradiction': 47.12, 'entailment': 52.8, 'neutral': 0.08} (99.99999999999999)\t0.6/0.72/0.0\n",
      "-----------------------------------------\n",
      "adverserial_shuffle_letters-minilm.jsonl \tAccuracy=0.7599\tDist={'contradiction': 36.45, 'entailment': 29.92, 'neutral': 33.63} (100.0)\t0.84/0.73/0.76\n",
      "-----------------------------------------\n",
      "adverserial_shuffle_tokens_one_neighbour-minilm.jsonl \tAccuracy=0.8753\tDist={'contradiction': 32.38, 'entailment': 34.91, 'neutral': 32.71} (100.0)\t0.91/0.91/0.86\n",
      "-----------------------------------------\n",
      "standard-minilm.jsonl \tAccuracy=0.8781\tDist={'contradiction': 31.22, 'entailment': 36.36, 'neutral': 32.42} (100.0)\t0.9/0.93/0.85\n",
      "-----------------------------------------\n",
      "greedy_longest_tokenization-minilm.jsonl \tAccuracy=0.4391\tDist={'contradiction': 47.12, 'entailment': 52.8, 'neutral': 0.08} (99.99999999999999)\t0.6/0.72/0.0\n",
      "-----------------------------------------\n",
      "char-minilm.jsonl \tAccuracy=0.3449\tDist={'contradiction': 2.99, 'entailment': 96.84, 'neutral': 0.17} (100.0)\t0.04/0.98/0.0\n",
      "-----------------------------------------\n",
      "adj-minilm.jsonl \tAccuracy=0.8854\tDist={'contradiction': 33.49, 'entailment': 33.6, 'neutral': 32.91} (100.0)\t0.93/0.9/0.87\n",
      "-----------------------------------------\n",
      "greedy_suffix_tokenization-minilm.jsonl \tAccuracy=0.4025\tDist={'contradiction': 56.99, 'entailment': 42.98, 'neutral': 0.03} (100.0)\t0.66/0.56/0.0\n",
      "-----------------------------------------\n",
      "verb-minilm.jsonl \tAccuracy=0.884\tDist={'contradiction': 33.01, 'entailment': 34.41, 'neutral': 32.58} (99.99999999999999)\t0.93/0.91/0.86\n",
      "-----------------------------------------\n",
      "adverserial_pos_synonym_verb-minilm.jsonl \tAccuracy=0.8448\tDist={'contradiction': 33.75, 'entailment': 33.67, 'neutral': 32.58} (100.0)\t0.89/0.86/0.82\n",
      "-----------------------------------------\n",
      "bigram_tokenizer-minilm.jsonl \tAccuracy=0.6659\tDist={'contradiction': 53.46, 'entailment': 28.91, 'neutral': 17.63} (100.0)\t0.9/0.7/0.43\n",
      "-----------------------------------------\n",
      "adverserial_shuffle_tokens_one-minilm.jsonl \tAccuracy=0.848\tDist={'contradiction': 32.41, 'entailment': 34.74, 'neutral': 32.85} (100.0)\t0.89/0.88/0.83\n",
      "-----------------------------------------\n",
      "noun-minilm.jsonl \tAccuracy=0.8775\tDist={'contradiction': 33.27, 'entailment': 33.75, 'neutral': 32.98} (100.0)\t0.92/0.9/0.86\n",
      "-----------------------------------------\n",
      "adverserial_pos_synonym_noun-minilm.jsonl \tAccuracy=0.8087\tDist={'contradiction': 34.11, 'entailment': 32.25, 'neutral': 33.64} (100.0)\t0.85/0.82/0.79\n",
      "-----------------------------------------\n"
     ]
    }
   ],
   "source": [
    "import os\n",
    "\n",
    "# dataset_name = \"multinli_1.0_dev_mismatched\"\n",
    "# dataset_name = \"multinli_1.0_dev_matched\"\n",
    "dataset_name = \"snli_1.0_test\"\n",
    "path = \"results/minilm/\"\n",
    "for file in os.listdir(path):\n",
    "    if dataset_name not in file:\n",
    "        continue\n",
    "    results = load_data(path + file)\n",
    "    file = \"-\".join(file.split(\"-\")[1:])\n",
    "    results_labels_num = get_labels_number(results)\n",
    "    labels_pred = np.asarray(results[\"label\"])\n",
    "    accuracy = sum(labels_pred == gt_labels)/len(gt_labels)\n",
    "\n",
    "    contradiction_acc = str(per_label_accuracy(gt_labels, labels_pred, 'contradiction'))\n",
    "    entailment_acc = str(per_label_accuracy(gt_labels, labels_pred, 'entailment'))\n",
    "    neutral_acc = str(per_label_accuracy(gt_labels, labels_pred, 'neutral'))\n",
    "\n",
    "    print(f\"{file} \\tAccuracy={accuracy}\\tDist={results_labels_num} ({sum(results_labels_num.values())})\\t{'/'.join([contradiction_acc, entailment_acc, neutral_acc])}\")\n",
    "    print(\"-----------------------------------------\")"
   ]
  },
  {
   "cell_type": "code",
   "execution_count": 21,
   "metadata": {},
   "outputs": [],
   "source": [
    "import json\n",
    "\n",
    "def load_data(file_name):\n",
    "    data = {\n",
    "            \"id\": [],\n",
    "            \"label\": [],\n",
    "            \"prob\": [],\n",
    "            \"all_prob\": []\n",
    "    }\n",
    "    with open(file_name, \"r\") as file:\n",
    "        for line in file:\n",
    "            aux_dict = json.loads(line)\n",
    "            \n",
    "            data[\"id\"] += [aux_dict[\"id\"]]\n",
    "            data[\"label\"] += [aux_dict[\"result\"][\"label\"]]\n",
    "            data[\"prob\"] += [aux_dict[\"result\"][\"prob\"]]\n",
    "            data[\"all_prob\"] += [aux_dict[\"result\"][\"all_prob\"]]\n",
    "\n",
    "    return data\n",
    "\n",
    "results_adj = load_data(\"results/bart/multinli_1.0_dev_mismatched-adj-bart.jsonl\")\n",
    "results_noun = load_data(\"results/bart/multinli_1.0_dev_mismatched-noun-bart.jsonl\")\n",
    "results_standard = load_data(\"results/bart/multinli_1.0_dev_mismatched-standard-bart.jsonl\")\n",
    "results_char = load_data(\"results/bart/multinli_1.0_dev_mismatched-char-bart.jsonl\")\n",
    "results_verb = load_data(\"results/bart/multinli_1.0_dev_mismatched-verb-bart.jsonl\")\n",
    "results_unigram = load_data(\"results/bart/multinli_1.0_dev_mismatched-unigram_tokenizer-bart.jsonl\")"
   ]
  },
  {
   "cell_type": "code",
   "execution_count": 22,
   "metadata": {},
   "outputs": [],
   "source": [
    "results_adverserial_syn = load_data(\"results/bart/multinli_1.0_dev_mismatched-adverserial_pos_synonym_noun-bart.jsonl\")\n",
    "results_adverserial_letter = load_data(\"results/bart/multinli_1.0_dev_mismatched-adverserial_shuffle_letters-bart.jsonl\")"
   ]
  },
  {
   "cell_type": "code",
   "execution_count": null,
   "metadata": {},
   "outputs": [
    {
     "name": "stdout",
     "output_type": "stream",
     "text": [
      "(10000, 3)\n"
     ]
    },
    {
     "data": {
      "text/plain": [
       "{'-': 168, 'contradiction': 3240, 'entailment': 3463, 'neutral': 3129}"
      ]
     },
     "execution_count": 23,
     "metadata": {},
     "output_type": "execute_result"
    }
   ],
   "source": [
    "import json\n",
    "import pandas as pd\n",
    "\n",
    "# data_path = \"data/\" + \"/snli_1.0\" + \"/snli_1.0_test.jsonl\"\n",
    "data_path = \"data/\" + \"/multinli_1.0\" + \"/multinli_1.0_dev_mismatched.jsonl\"\n",
    "\n",
    "data = []\n",
    "limit = 500_000\n",
    "with open(data_path, \"r\") as file:\n",
    "    for _ in range(limit):\n",
    "        json_obj = file.readline()\n",
    "        if json_obj != \"\":\n",
    "            data += [json.loads(json_obj)]\n",
    "        else:\n",
    "            break\n",
    "\n",
    "data_df = {\n",
    "    \"label\": [],\n",
    "    \"sent1\": [],\n",
    "    \"sent2\": []\n",
    "}\n",
    "\n",
    "for datum in data:\n",
    "    data_df[\"label\"] += [datum[\"gold_label\"]]\n",
    "    data_df[\"sent1\"] += [datum[\"sentence1\"]] # premise\n",
    "    data_df[\"sent2\"] += [datum[\"sentence2\"]] # hypothesis\n",
    "\n",
    "data_df = pd.DataFrame(data_df)\n",
    "print(data_df.shape)\n",
    "data_df.head()\n",
    "\n",
    "gt_labels=data_df[\"label\"].to_numpy()\n",
    "gt_labels_num = data_df[\"label\"].value_counts().to_dict()\n",
    "\n",
    "gt_labels_num = dict(sorted(gt_labels_num.items(), key=lambda x:x[0]))\n",
    "\n",
    "gt_labels_num"
   ]
  },
  {
   "cell_type": "code",
   "execution_count": 18,
   "metadata": {},
   "outputs": [
    {
     "name": "stdout",
     "output_type": "stream",
     "text": [
      "0.7209\n",
      "0.8282\n",
      "0.8086\n",
      "0.8518\n"
     ]
    }
   ],
   "source": [
    "print(sum(results_adverserial_letter[\"label\"] == gt_labels)/len(gt_labels))\n",
    "print(sum(results_standard[\"label\"] == gt_labels)/len(gt_labels))\n",
    "print(sum(results_adverserial_syn[\"label\"] == gt_labels)/len(gt_labels))\n",
    "print(sum(results_unigram[\"label\"] == gt_labels)/len(gt_labels))"
   ]
  },
  {
   "cell_type": "code",
   "execution_count": 28,
   "metadata": {},
   "outputs": [
    {
     "name": "stdout",
     "output_type": "stream",
     "text": [
      "{'contradiction': 2984, 'entailment': 3250, 'neutral': 3766} <class 'dict'>\n",
      "{'contradiction': 3001, 'entailment': 3256, 'neutral': 3743} <class 'dict'>\n",
      "{'contradiction': 3053, 'entailment': 3176, 'neutral': 3771} <class 'dict'>\n",
      "{'contradiction': 1700, 'entailment': 6174, 'neutral': 2126} <class 'dict'>\n",
      "{'contradiction': 2980, 'entailment': 3264, 'neutral': 3756} <class 'dict'>\n",
      "{'contradiction': 3212, 'entailment': 3263, 'neutral': 3525} <class 'dict'>\n",
      "{'contradiction': 3238, 'entailment': 3035, 'neutral': 3727} <class 'dict'>\n",
      "{'contradiction': 3245, 'entailment': 2639, 'neutral': 4116} <class 'dict'>\n"
     ]
    }
   ],
   "source": [
    "from collections import defaultdict\n",
    "import numpy as np\n",
    "\n",
    "def get_labels_number(res_dict: dict):\n",
    "    labels_model_custom = defaultdict(int)\n",
    "    for label in res_dict[\"label\"]:\n",
    "        labels_model_custom[label] += 1\n",
    "    labels_model_custom = dict(sorted(labels_model_custom.items(), key=lambda x:x[0]))\n",
    "    print(labels_model_custom)\n",
    "    return labels_model_custom\n",
    "\n",
    "results_adj_num = get_labels_number(results_adj)\n",
    "results_noun_num = get_labels_number(results_noun)\n",
    "results_standard_num = get_labels_number(results_standard)\n",
    "results_char_num = get_labels_number(results_char)\n",
    "results_verb_num = get_labels_number(results_verb)\n",
    "results_unigram_num = get_labels_number(results_unigram)\n",
    "results_adv_syn_num = get_labels_number(results_adverserial_syn)\n",
    "results_adv_letter_num = get_labels_number(results_adverserial_letter)\n",
    "\n",
    "results_standard_labels = np.asarray(results_standard[\"label\"])\n",
    "results_adj_labels = np.asarray(results_adj[\"label\"])\n",
    "results_noun_labels = np.asarray(results_noun[\"label\"])\n",
    "results_char_labels = np.asarray(results_char[\"label\"])\n",
    "results_verb_labels = np.asarray(results_verb[\"label\"])\n",
    "results_verb_labels = np.asarray(results_verb[\"label\"])\n",
    "results_unigram_labels= np.asarray(results_unigram[\"label\"])\n",
    "results_adv_syn_labels= np.asarray(results_adverserial_syn[\"label\"])\n",
    "results_adv_letter_labels= np.asarray(results_adverserial_letter[\"label\"])\n"
   ]
  },
  {
   "cell_type": "code",
   "execution_count": 20,
   "metadata": {},
   "outputs": [
    {
     "data": {
      "image/png": "[encoded data removed]",
      "text/plain": [
       "<Figure size 1700x900 with 9 Axes>"
      ]
     },
     "metadata": {},
     "output_type": "display_data"
    }
   ],
   "source": [
    "sns.set_theme(style=\"whitegrid\")\n",
    "\n",
    "def make_bar_plot(result_dict, title, ax):\n",
    "    sns.barplot(result_dict, ax=ax)\n",
    "    ax.set_title(title)\n",
    "\n",
    "fig, axes = plt.subplots(1,9, figsize=(17,9), sharey=True)\n",
    "make_bar_plot(gt_labels_num, \"Original Data\", axes[0])\n",
    "make_bar_plot(results_standard_num, f\"RoBERTa {sum(results_standard_labels == gt_labels)/len(gt_labels)}\", axes[1])\n",
    "make_bar_plot(results_adj_num, f\"Adj {sum(results_adj_labels == gt_labels)/len(gt_labels)}\", axes[2])\n",
    "make_bar_plot(results_noun_num, f\"Noun {sum(results_noun_labels == gt_labels)/len(gt_labels)}\", axes[3])\n",
    "make_bar_plot(results_char_num, f\"Char {sum(results_char_labels == gt_labels)/len(gt_labels)}\", axes[4])\n",
    "make_bar_plot(results_verb_num, f\"Verb {sum(results_verb_labels == gt_labels)/len(gt_labels)}\", axes[5])\n",
    "make_bar_plot(results_unigram_num, f\"Unigram {sum(results_unigram_labels == gt_labels)/len(gt_labels)}\", axes[6])\n",
    "make_bar_plot(results_adv_letter_num, f\"Adv syn {sum(results_adv_letter_labels == gt_labels)/len(gt_labels)}\", axes[7])\n",
    "make_bar_plot(results_adv_syn_num, f\"Adv let {sum(results_adv_syn_labels == gt_labels)/len(gt_labels)}\", axes[8])\n",
    "sns.despine()\n",
    "plt.show()"
   ]
  }
 ],
 "metadata": {
  "kernelspec": {
   "display_name": "facilex_caselaw",
   "language": "python",
   "name": "python3"
  },
  "language_info": {
   "codemirror_mode": {
    "name": "ipython",
    "version": 3
   },
   "file_extension": ".py",
   "mimetype": "text/x-python",
   "name": "python",
   "nbconvert_exporter": "python",
   "pygments_lexer": "ipython3",
   "version": "3.11.5"
  }
 },
 "nbformat": 4,
 "nbformat_minor": 2
}
