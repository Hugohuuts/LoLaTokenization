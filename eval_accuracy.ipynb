{
 "cells": [
  {
   "cell_type": "code",
   "execution_count": 1,
   "metadata": {},
   "outputs": [],
   "source": [
    "import seaborn as sns\n",
    "import matplotlib.pyplot as plt\n",
    "\n",
    "from collections import defaultdict\n",
    "import numpy as np\n",
    "\n",
    "def get_labels_number(res_dict: dict):\n",
    "    labels_model_custom = defaultdict(int)\n",
    "    for label in res_dict[\"label\"]:\n",
    "        labels_model_custom[label] += 1\n",
    "    labels_model_custom = dict(sorted(labels_model_custom.items(), key=lambda x:x[0]))\n",
    "    labels_model_custom = {label: round(val/len(res_dict[\"label\"]) * 100,2) for label, val in labels_model_custom.items()}\n",
    "    # print(labels_model_custom)\n",
    "    return labels_model_custom\n",
    "\n",
    "import json\n",
    "\n",
    "def load_data(file_name):\n",
    "    data = {\n",
    "            \"id\": [],\n",
    "            \"label\": [],\n",
    "            \"prob\": [],\n",
    "            \"all_prob\": []\n",
    "    }\n",
    "    with open(file_name, \"r\") as file:\n",
    "        for line in file:\n",
    "            aux_dict = json.loads(line)\n",
    "            \n",
    "            data[\"id\"] += [aux_dict[\"id\"]]\n",
    "            data[\"label\"] += [aux_dict[\"result\"][\"label\"]]\n",
    "            data[\"prob\"] += [aux_dict[\"result\"][\"prob\"]]\n",
    "            data[\"all_prob\"] += [aux_dict[\"result\"][\"all_prob\"]]\n",
    "\n",
    "    return data"
   ]
  },
  {
   "cell_type": "code",
   "execution_count": null,
   "metadata": {},
   "outputs": [
    {
     "name": "stdout",
     "output_type": "stream",
     "text": [
      "(10000, 3)\n"
     ]
    },
    {
     "data": {
      "text/plain": [
       "{'-': 1.68, 'contradiction': 32.4, 'entailment': 34.63, 'neutral': 31.29}"
      ]
     },
     "execution_count": 67,
     "metadata": {},
     "output_type": "execute_result"
    }
   ],
   "source": [
    "import json\n",
    "import pandas as pd\n",
    "\n",
    "data_path = \"data/\" + \"/multinli_1.0\" + \"/multinli_1.0_dev_mismatched.jsonl\"\n",
    "# data_path = \"data/\" + \"/multinli_1.0\" + \"/multinli_1.0_dev_matched.jsonl\"\n",
    "# data_path = \"data/\" + \"/snli_1.0\" + \"/snli_1.0_test.jsonl\"\n",
    "\n",
    "data = []\n",
    "limit = 500_000\n",
    "with open(data_path, \"r\") as file:\n",
    "    for _ in range(limit):\n",
    "        json_obj = file.readline()\n",
    "        if json_obj != \"\":\n",
    "            data += [json.loads(json_obj)]\n",
    "        else:\n",
    "            break\n",
    "\n",
    "data_df = {\n",
    "    \"label\": [],\n",
    "    \"sent1\": [],\n",
    "    \"sent2\": []\n",
    "}\n",
    "\n",
    "for datum in data:\n",
    "    data_df[\"label\"] += [datum[\"gold_label\"]]\n",
    "    data_df[\"sent1\"] += [datum[\"sentence1\"]] # premise\n",
    "    data_df[\"sent2\"] += [datum[\"sentence2\"]] # hypothesis\n",
    "\n",
    "data_df = pd.DataFrame(data_df)\n",
    "print(data_df.shape)\n",
    "data_df.head()\n",
    "\n",
    "gt_labels=data_df[\"label\"].to_numpy()\n",
    "gt_labels_num = data_df[\"label\"].value_counts().to_dict()\n",
    "\n",
    "gt_labels_num = dict(sorted(gt_labels_num.items(), key=lambda x:x[0]))\n",
    "gt_labels_num = {label: round(val/len(gt_labels) * 100, 2) for label, val in gt_labels_num.items()}\n",
    "gt_labels_num"
   ]
  },
  {
   "cell_type": "code",
   "execution_count": 87,
   "metadata": {},
   "outputs": [
    {
     "name": "stdout",
     "output_type": "stream",
     "text": [
      "[0.833, 0.85, 0.781]\n",
      "[[   0   45   65   58]\n",
      " [   0 2698  212  330]\n",
      " [   0  160 2945  358]\n",
      " [   0  353  332 2444]]\n",
      "Per-Class Accuracy: [0.0, 0.833, 0.85, 0.781]\n"
     ]
    }
   ],
   "source": [
    "from sklearn.metrics import confusion_matrix\n",
    "import numpy as np\n",
    "\n",
    "y_true = gt_labels\n",
    "r = load_data(\"results/roberta/multinli_1.0_dev_mismatched-adverserial_shuffle_tokens_one_neighbour-roberta.jsonl\")\n",
    "y_pred = np.asarray(r[\"label\"])\n",
    "\n",
    "cm = confusion_matrix(y_true, y_pred, normalize='true')\n",
    "cm_mine = confusion_matrix(y_true, y_pred)\n",
    "\n",
    "print([round(a,3) for a in cm[1:,1:].diagonal()])\n",
    "print(cm_mine)\n",
    "\n",
    "# Compute per-class accuracy\n",
    "per_class_accuracy = np.diag(cm) / np.sum(cm, axis=1)\n",
    "\n",
    "print(\"Per-Class Accuracy:\", [round(a,3) for a in per_class_accuracy])"
   ]
  },
  {
   "cell_type": "code",
   "execution_count": 63,
   "metadata": {},
   "outputs": [],
   "source": [
    "def per_label_accuracy(original_labels, predicted_labels, label):\n",
    "    label_mask = original_labels == label\n",
    "    original_labels = original_labels[label_mask]\n",
    "    predicted_labels = predicted_labels[label_mask]\n",
    "\n",
    "    return int(round(sum(original_labels == predicted_labels)/len(original_labels),3) * 100)"
   ]
  },
  {
   "cell_type": "code",
   "execution_count": 78,
   "metadata": {},
   "outputs": [
    {
     "name": "stdout",
     "output_type": "stream",
     "text": [
      "results/roberta/multinli_1.0_dev_mismatched-greedy_prefix_tokenization-roberta.jsonl\n",
      "greedy_prefix_tokenization-roberta.jsonl \tAccuracy=0.391\tDist={'contradiction': 4.68, 'entailment': 91.5, 'neutral': 3.82} (100.0)\t9/96/8\n",
      "-----------------------------------------\n",
      "results/roberta/multinli_1.0_dev_mismatched-noun-roberta.jsonl\n",
      "noun-roberta.jsonl \tAccuracy=0.8096\tDist={'contradiction': 32.81, 'entailment': 35.24, 'neutral': 31.95} (100.00000000000001)\t84/84/77\n",
      "-----------------------------------------\n",
      "results/roberta/multinli_1.0_dev_mismatched-adverserial_pos_synonym_verb-roberta.jsonl\n",
      "adverserial_pos_synonym_verb-roberta.jsonl \tAccuracy=0.7765\tDist={'contradiction': 32.99, 'entailment': 32.81, 'neutral': 34.2} (100.00000000000001)\t81/78/77\n",
      "-----------------------------------------\n",
      "results/roberta/multinli_1.0_dev_mismatched-bigram_tokenizer-roberta.jsonl\n",
      "bigram_tokenizer-roberta.jsonl \tAccuracy=0.681\tDist={'contradiction': 36.48, 'entailment': 35.32, 'neutral': 28.2} (100.0)\t75/72/59\n",
      "-----------------------------------------\n",
      "results/roberta/multinli_1.0_dev_mismatched-adverserial_shuffle_tokens_one-roberta.jsonl\n",
      "adverserial_shuffle_tokens_one-roberta.jsonl \tAccuracy=0.7929\tDist={'contradiction': 32.21, 'entailment': 36.09, 'neutral': 31.7} (100.00000000000001)\t80/84/76\n",
      "-----------------------------------------\n",
      "results/roberta/multinli_1.0_dev_mismatched-adverserial_pos_synonym_noun-roberta.jsonl\n",
      "adverserial_pos_synonym_noun-roberta.jsonl \tAccuracy=0.7841\tDist={'contradiction': 32.86, 'entailment': 32.66, 'neutral': 34.48} (100.0)\t82/78/78\n",
      "-----------------------------------------\n",
      "results/roberta/multinli_1.0_dev_mismatched-adverserial_shuffle_tokens_one_neighbour-roberta.jsonl\n",
      "adverserial_shuffle_tokens_one_neighbour-roberta.jsonl \tAccuracy=0.8087\tDist={'contradiction': 32.56, 'entailment': 35.54, 'neutral': 31.9} (100.0)\t83/85/78\n",
      "-----------------------------------------\n",
      "results/roberta/multinli_1.0_dev_mismatched-greedy_longest_tokenization-roberta.jsonl\n",
      "greedy_longest_tokenization-roberta.jsonl \tAccuracy=0.391\tDist={'contradiction': 4.68, 'entailment': 91.5, 'neutral': 3.82} (100.0)\t9/96/8\n",
      "-----------------------------------------\n",
      "results/roberta/multinli_1.0_dev_mismatched-greedy_suffix_tokenization-roberta.jsonl\n",
      "greedy_suffix_tokenization-roberta.jsonl \tAccuracy=0.375\tDist={'contradiction': 5.47, 'entailment': 91.87, 'neutral': 2.66} (100.0)\t8/95/5\n",
      "-----------------------------------------\n",
      "results/roberta/multinli_1.0_dev_mismatched-adverserial_shuffle_letters-roberta.jsonl\n",
      "adverserial_shuffle_letters-roberta.jsonl \tAccuracy=0.6994\tDist={'contradiction': 31.94, 'entailment': 30.13, 'neutral': 37.93} (100.0)\t73/65/75\n",
      "-----------------------------------------\n",
      "results/roberta/multinli_1.0_dev_mismatched-standard-roberta.jsonl\n",
      "standard-roberta.jsonl \tAccuracy=0.7913\tDist={'contradiction': 29.07, 'entailment': 37.99, 'neutral': 32.94} (100.0)\t77/85/77\n",
      "-----------------------------------------\n",
      "results/roberta/multinli_1.0_dev_mismatched-char-roberta.jsonl\n",
      "char-roberta.jsonl \tAccuracy=0.3595\tDist={'contradiction': 1.05, 'entailment': 96.97, 'neutral': 1.98} (100.0)\t1/98/3\n",
      "-----------------------------------------\n",
      "results/roberta/multinli_1.0_dev_mismatched-unigram_tokenizer-roberta.jsonl\n",
      "unigram_tokenizer-roberta.jsonl \tAccuracy=0.8211\tDist={'contradiction': 32.71, 'entailment': 35.18, 'neutral': 32.11} (100.0)\t85/85/79\n",
      "-----------------------------------------\n",
      "results/roberta/multinli_1.0_dev_mismatched-adj-roberta.jsonl\n",
      "adj-roberta.jsonl \tAccuracy=0.8036\tDist={'contradiction': 33.23, 'entailment': 34.82, 'neutral': 31.95} (100.0)\t83/83/77\n",
      "-----------------------------------------\n",
      "results/roberta/multinli_1.0_dev_mismatched-verb-roberta.jsonl\n",
      "verb-roberta.jsonl \tAccuracy=0.8097\tDist={'contradiction': 32.51, 'entailment': 35.14, 'neutral': 32.35} (100.0)\t83/84/78\n",
      "-----------------------------------------\n"
     ]
    }
   ],
   "source": [
    "import os\n",
    "\n",
    "dataset_name = \"multinli_1.0_dev_mismatched\"\n",
    "# dataset_name = \"multinli_1.0_dev_matched\"\n",
    "# dataset_name = \"snli_1.0_test\"\n",
    "path = \"results/roberta/\"\n",
    "for file in os.listdir(path):\n",
    "    if dataset_name not in file:\n",
    "        continue\n",
    "    results = load_data(path + file)\n",
    "    print(path + file)\n",
    "    file = \"-\".join(file.split(\"-\")[1:])\n",
    "    results_labels_num = get_labels_number(results)\n",
    "    labels_pred = np.asarray(results[\"label\"])\n",
    "    accuracy = sum(labels_pred == gt_labels)/len(gt_labels)\n",
    "\n",
    "    contradiction_acc = str(per_label_accuracy(gt_labels, labels_pred, 'contradiction'))\n",
    "    entailment_acc = str(per_label_accuracy(gt_labels, labels_pred, 'entailment'))\n",
    "    neutral_acc = str(per_label_accuracy(gt_labels, labels_pred, 'neutral'))\n",
    "\n",
    "    print(f\"{file} \\tAccuracy={accuracy}\\tDist={results_labels_num} ({sum(results_labels_num.values())})\\t{'/'.join([contradiction_acc, entailment_acc, neutral_acc])}\")\n",
    "    print(\"-----------------------------------------\")"
   ]
  },
  {
   "cell_type": "code",
   "execution_count": 91,
   "metadata": {},
   "outputs": [],
   "source": [
    "import json\n",
    "\n",
    "def load_data(file_name):\n",
    "    data = {\n",
    "            \"id\": [],\n",
    "            \"label\": [],\n",
    "            \"prob\": [],\n",
    "            \"all_prob\": []\n",
    "    }\n",
    "    with open(file_name, \"r\") as file:\n",
    "        for line in file:\n",
    "            aux_dict = json.loads(line)\n",
    "            \n",
    "            data[\"id\"] += [aux_dict[\"id\"]]\n",
    "            data[\"label\"] += [aux_dict[\"result\"][\"label\"]]\n",
    "            data[\"prob\"] += [aux_dict[\"result\"][\"prob\"]]\n",
    "            data[\"all_prob\"] += [aux_dict[\"result\"][\"all_prob\"]]\n",
    "\n",
    "    return data\n",
    "\n",
    "results_adj = load_data(\"results/bart/multinli_1.0_dev_mismatched-adj-bart.jsonl\")\n",
    "results_noun = load_data(\"results/bart/multinli_1.0_dev_mismatched-noun-bart.jsonl\")\n",
    "results_standard = load_data(\"results/bart/multinli_1.0_dev_mismatched-standard-bart.jsonl\")\n",
    "results_char = load_data(\"results/bart/multinli_1.0_dev_mismatched-char-bart.jsonl\")\n",
    "results_verb = load_data(\"results/bart/multinli_1.0_dev_mismatched-verb-bart.jsonl\")\n",
    "results_unigram = load_data(\"results/bart/multinli_1.0_dev_mismatched-unigram_tokenizer-bart.jsonl\")"
   ]
  },
  {
   "cell_type": "code",
   "execution_count": 92,
   "metadata": {},
   "outputs": [],
   "source": [
    "results_adverserial_syn = load_data(\"results/bart/multinli_1.0_dev_mismatched-adverserial_pos_synonym_noun-bart.jsonl\")\n",
    "results_adverserial_letter = load_data(\"results/bart/multinli_1.0_dev_mismatched-adverserial_shuffle_letters-bart.jsonl\")"
   ]
  },
  {
   "cell_type": "code",
   "execution_count": 90,
   "metadata": {},
   "outputs": [
    {
     "name": "stdout",
     "output_type": "stream",
     "text": [
      "(10000, 3)\n"
     ]
    },
    {
     "data": {
      "text/plain": [
       "{'-': 168, 'contradiction': 3240, 'entailment': 3463, 'neutral': 3129}"
      ]
     },
     "execution_count": 90,
     "metadata": {},
     "output_type": "execute_result"
    }
   ],
   "source": [
    "import json\n",
    "import pandas as pd\n",
    "\n",
    "# data_path = \"data/\" + \"/snli_1.0\" + \"/snli_1.0_test.jsonl\"\n",
    "data_path = \"data/\" + \"/multinli_1.0\" + \"/multinli_1.0_dev_mismatched.jsonl\"\n",
    "\n",
    "data = []\n",
    "limit = 500_000\n",
    "with open(data_path, \"r\") as file:\n",
    "    for _ in range(limit):\n",
    "        json_obj = file.readline()\n",
    "        if json_obj != \"\":\n",
    "            data += [json.loads(json_obj)]\n",
    "        else:\n",
    "            break\n",
    "\n",
    "data_df = {\n",
    "    \"label\": [],\n",
    "    \"sent1\": [],\n",
    "    \"sent2\": []\n",
    "}\n",
    "\n",
    "for datum in data:\n",
    "    data_df[\"label\"] += [datum[\"gold_label\"]]\n",
    "    data_df[\"sent1\"] += [datum[\"sentence1\"]] # premise\n",
    "    data_df[\"sent2\"] += [datum[\"sentence2\"]] # hypothesis\n",
    "\n",
    "data_df = pd.DataFrame(data_df)\n",
    "print(data_df.shape)\n",
    "data_df.head()\n",
    "\n",
    "gt_labels=data_df[\"label\"].to_numpy()\n",
    "gt_labels_num = data_df[\"label\"].value_counts().to_dict()\n",
    "\n",
    "gt_labels_num = dict(sorted(gt_labels_num.items(), key=lambda x:x[0]))\n",
    "\n",
    "gt_labels_num"
   ]
  },
  {
   "cell_type": "code",
   "execution_count": 18,
   "metadata": {},
   "outputs": [
    {
     "name": "stdout",
     "output_type": "stream",
     "text": [
      "0.7209\n",
      "0.8282\n",
      "0.8086\n",
      "0.8518\n"
     ]
    }
   ],
   "source": [
    "print(sum(results_adverserial_letter[\"label\"] == gt_labels)/len(gt_labels))\n",
    "print(sum(results_standard[\"label\"] == gt_labels)/len(gt_labels))\n",
    "print(sum(results_adverserial_syn[\"label\"] == gt_labels)/len(gt_labels))\n",
    "print(sum(results_unigram[\"label\"] == gt_labels)/len(gt_labels))"
   ]
  },
  {
   "cell_type": "code",
   "execution_count": 93,
   "metadata": {},
   "outputs": [
    {
     "name": "stdout",
     "output_type": "stream",
     "text": [
      "{'contradiction': 2984, 'entailment': 3250, 'neutral': 3766}\n",
      "{'contradiction': 3001, 'entailment': 3256, 'neutral': 3743}\n",
      "{'contradiction': 3053, 'entailment': 3176, 'neutral': 3771}\n",
      "{'contradiction': 1700, 'entailment': 6174, 'neutral': 2126}\n",
      "{'contradiction': 2980, 'entailment': 3264, 'neutral': 3756}\n",
      "{'contradiction': 3212, 'entailment': 3263, 'neutral': 3525}\n",
      "{'contradiction': 3238, 'entailment': 3035, 'neutral': 3727}\n",
      "{'contradiction': 3245, 'entailment': 2639, 'neutral': 4116}\n"
     ]
    }
   ],
   "source": [
    "from collections import defaultdict\n",
    "import numpy as np\n",
    "\n",
    "def get_labels_number(res_dict: dict):\n",
    "    labels_model_custom = defaultdict(int)\n",
    "    for label in res_dict[\"label\"]:\n",
    "        labels_model_custom[label] += 1\n",
    "    labels_model_custom = dict(sorted(labels_model_custom.items(), key=lambda x:x[0]))\n",
    "    print(labels_model_custom)\n",
    "    return labels_model_custom\n",
    "\n",
    "results_adj_num = get_labels_number(results_adj)\n",
    "results_noun_num = get_labels_number(results_noun)\n",
    "results_standard_num = get_labels_number(results_standard)\n",
    "results_char_num = get_labels_number(results_char)\n",
    "results_verb_num = get_labels_number(results_verb)\n",
    "results_unigram_num = get_labels_number(results_unigram)\n",
    "results_adv_syn_num = get_labels_number(results_adverserial_syn)\n",
    "results_adv_letter_num = get_labels_number(results_adverserial_letter)\n",
    "\n",
    "results_standard_labels = np.asarray(results_standard[\"label\"])\n",
    "results_adj_labels = np.asarray(results_adj[\"label\"])\n",
    "results_noun_labels = np.asarray(results_noun[\"label\"])\n",
    "results_char_labels = np.asarray(results_char[\"label\"])\n",
    "results_verb_labels = np.asarray(results_verb[\"label\"])\n",
    "results_verb_labels = np.asarray(results_verb[\"label\"])\n",
    "results_unigram_labels= np.asarray(results_unigram[\"label\"])\n",
    "results_adv_syn_labels= np.asarray(results_adverserial_syn[\"label\"])\n",
    "results_adv_letter_labels= np.asarray(results_adverserial_letter[\"label\"])\n"
   ]
  },
  {
   "cell_type": "code",
   "execution_count": 94,
   "metadata": {},
   "outputs": [
    {
     "data": {
      "image/png": "[encoded data removed]",
      "text/plain": [
       "<Figure size 1700x900 with 9 Axes>"
      ]
     },
     "metadata": {},
     "output_type": "display_data"
    }
   ],
   "source": [
    "sns.set_theme(style=\"whitegrid\")\n",
    "\n",
    "def make_bar_plot(result_dict, title, ax):\n",
    "    sns.barplot(result_dict, ax=ax)\n",
    "    ax.set_title(title)\n",
    "\n",
    "fig, axes = plt.subplots(1,9, figsize=(17,9), sharey=True)\n",
    "make_bar_plot(gt_labels_num, \"Original Data\", axes[0])\n",
    "make_bar_plot(results_standard_num, f\"RoBERTa {sum(results_standard_labels == gt_labels)/len(gt_labels)}\", axes[1])\n",
    "make_bar_plot(results_adj_num, f\"Adj {sum(results_adj_labels == gt_labels)/len(gt_labels)}\", axes[2])\n",
    "make_bar_plot(results_noun_num, f\"Noun {sum(results_noun_labels == gt_labels)/len(gt_labels)}\", axes[3])\n",
    "make_bar_plot(results_char_num, f\"Char {sum(results_char_labels == gt_labels)/len(gt_labels)}\", axes[4])\n",
    "make_bar_plot(results_verb_num, f\"Verb {sum(results_verb_labels == gt_labels)/len(gt_labels)}\", axes[5])\n",
    "make_bar_plot(results_unigram_num, f\"Unigram {sum(results_unigram_labels == gt_labels)/len(gt_labels)}\", axes[6])\n",
    "make_bar_plot(results_adv_letter_num, f\"Adv syn {sum(results_adv_letter_labels == gt_labels)/len(gt_labels)}\", axes[7])\n",
    "make_bar_plot(results_adv_syn_num, f\"Adv let {sum(results_adv_syn_labels == gt_labels)/len(gt_labels)}\", axes[8])\n",
    "sns.despine()\n",
    "plt.show()"
   ]
  }
 ],
 "metadata": {
  "kernelspec": {
   "display_name": "test",
   "language": "python",
   "name": "python3"
  },
  "language_info": {
   "codemirror_mode": {
    "name": "ipython",
    "version": 3
   },
   "file_extension": ".py",
   "mimetype": "text/x-python",
   "name": "python",
   "nbconvert_exporter": "python",
   "pygments_lexer": "ipython3",
   "version": "3.11.11"
  }
 },
 "nbformat": 4,
 "nbformat_minor": 2
}
