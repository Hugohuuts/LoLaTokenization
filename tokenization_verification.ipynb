{
 "cells": [
  {
   "cell_type": "markdown",
   "metadata": {},
   "source": [
    "# Notebook to check that all tokenization methods don't exceed the maximum context window of the models"
   ]
  },
  {
   "cell_type": "code",
   "execution_count": 1,
   "metadata": {},
   "outputs": [
    {
     "name": "stdout",
     "output_type": "stream",
     "text": [
      "Tensors and operations will be done on cuda:0.\n"
     ]
    },
    {
     "name": "stderr",
     "output_type": "stream",
     "text": [
      "roberta --- adverserial_pos_synonym_noun -- multinli_1.0_dev_matched.jsonl: 100%|██████████| 10000/10000 [01:37<00:00, 102.69it/s]\n"
     ]
    },
    {
     "name": "stdout",
     "output_type": "stream",
     "text": [
      "Tensors and operations will be done on cuda:0.\n"
     ]
    },
    {
     "name": "stderr",
     "output_type": "stream",
     "text": [
      "bart --- adverserial_pos_synonym_noun -- multinli_1.0_dev_matched.jsonl: 100%|██████████| 10000/10000 [01:34<00:00, 106.22it/s]\n"
     ]
    },
    {
     "name": "stdout",
     "output_type": "stream",
     "text": [
      "Tensors and operations will be done on cuda:0.\n"
     ]
    },
    {
     "name": "stderr",
     "output_type": "stream",
     "text": [
      "minilm --- adverserial_pos_synonym_noun -- multinli_1.0_dev_matched.jsonl: 100%|██████████| 10000/10000 [01:33<00:00, 106.94it/s]\n"
     ]
    },
    {
     "name": "stdout",
     "output_type": "stream",
     "text": [
      "Tensors and operations will be done on cuda:0.\n"
     ]
    },
    {
     "name": "stderr",
     "output_type": "stream",
     "text": [
      "roberta --- adverserial_pos_synonym_verb -- multinli_1.0_dev_matched.jsonl: 100%|██████████| 10000/10000 [01:31<00:00, 109.38it/s]\n"
     ]
    },
    {
     "name": "stdout",
     "output_type": "stream",
     "text": [
      "Tensors and operations will be done on cuda:0.\n"
     ]
    },
    {
     "name": "stderr",
     "output_type": "stream",
     "text": [
      "bart --- adverserial_pos_synonym_verb -- multinli_1.0_dev_matched.jsonl: 100%|██████████| 10000/10000 [01:32<00:00, 107.57it/s]\n"
     ]
    },
    {
     "name": "stdout",
     "output_type": "stream",
     "text": [
      "Tensors and operations will be done on cuda:0.\n"
     ]
    },
    {
     "name": "stderr",
     "output_type": "stream",
     "text": [
      "minilm --- adverserial_pos_synonym_verb -- multinli_1.0_dev_matched.jsonl: 100%|██████████| 10000/10000 [01:32<00:00, 108.22it/s]\n"
     ]
    },
    {
     "name": "stdout",
     "output_type": "stream",
     "text": [
      "Tensors and operations will be done on cuda:0.\n"
     ]
    },
    {
     "name": "stderr",
     "output_type": "stream",
     "text": [
      "roberta --- adverserial_pos_synonym_noun -- multinli_1.0_dev_mismatched.jsonl: 100%|██████████| 10000/10000 [01:36<00:00, 103.57it/s]\n"
     ]
    },
    {
     "name": "stdout",
     "output_type": "stream",
     "text": [
      "Tensors and operations will be done on cuda:0.\n"
     ]
    },
    {
     "name": "stderr",
     "output_type": "stream",
     "text": [
      "bart --- adverserial_pos_synonym_noun -- multinli_1.0_dev_mismatched.jsonl: 100%|██████████| 10000/10000 [01:36<00:00, 104.11it/s]\n"
     ]
    },
    {
     "name": "stdout",
     "output_type": "stream",
     "text": [
      "Tensors and operations will be done on cuda:0.\n"
     ]
    },
    {
     "name": "stderr",
     "output_type": "stream",
     "text": [
      "minilm --- adverserial_pos_synonym_noun -- multinli_1.0_dev_mismatched.jsonl: 100%|██████████| 10000/10000 [01:35<00:00, 105.10it/s]\n"
     ]
    },
    {
     "name": "stdout",
     "output_type": "stream",
     "text": [
      "Tensors and operations will be done on cuda:0.\n"
     ]
    },
    {
     "name": "stderr",
     "output_type": "stream",
     "text": [
      "roberta --- adverserial_pos_synonym_verb -- multinli_1.0_dev_mismatched.jsonl: 100%|██████████| 10000/10000 [01:34<00:00, 106.04it/s]\n"
     ]
    },
    {
     "name": "stdout",
     "output_type": "stream",
     "text": [
      "Tensors and operations will be done on cuda:0.\n"
     ]
    },
    {
     "name": "stderr",
     "output_type": "stream",
     "text": [
      "bart --- adverserial_pos_synonym_verb -- multinli_1.0_dev_mismatched.jsonl: 100%|██████████| 10000/10000 [01:34<00:00, 106.25it/s]\n"
     ]
    },
    {
     "name": "stdout",
     "output_type": "stream",
     "text": [
      "Tensors and operations will be done on cuda:0.\n"
     ]
    },
    {
     "name": "stderr",
     "output_type": "stream",
     "text": [
      "minilm --- adverserial_pos_synonym_verb -- multinli_1.0_dev_mismatched.jsonl: 100%|██████████| 10000/10000 [01:33<00:00, 106.56it/s]\n"
     ]
    },
    {
     "name": "stdout",
     "output_type": "stream",
     "text": [
      "Tensors and operations will be done on cuda:0.\n"
     ]
    },
    {
     "name": "stderr",
     "output_type": "stream",
     "text": [
      "roberta --- adverserial_pos_synonym_noun -- snli_1.0_test.jsonl: 100%|██████████| 10000/10000 [01:20<00:00, 124.78it/s]\n"
     ]
    },
    {
     "name": "stdout",
     "output_type": "stream",
     "text": [
      "Tensors and operations will be done on cuda:0.\n"
     ]
    },
    {
     "name": "stderr",
     "output_type": "stream",
     "text": [
      "bart --- adverserial_pos_synonym_noun -- snli_1.0_test.jsonl: 100%|██████████| 10000/10000 [01:17<00:00, 129.49it/s]\n"
     ]
    },
    {
     "name": "stdout",
     "output_type": "stream",
     "text": [
      "Tensors and operations will be done on cuda:0.\n"
     ]
    },
    {
     "name": "stderr",
     "output_type": "stream",
     "text": [
      "minilm --- adverserial_pos_synonym_noun -- snli_1.0_test.jsonl: 100%|██████████| 10000/10000 [01:15<00:00, 132.12it/s]\n"
     ]
    },
    {
     "name": "stdout",
     "output_type": "stream",
     "text": [
      "Tensors and operations will be done on cuda:0.\n"
     ]
    },
    {
     "name": "stderr",
     "output_type": "stream",
     "text": [
      "roberta --- adverserial_pos_synonym_verb -- snli_1.0_test.jsonl: 100%|██████████| 10000/10000 [01:12<00:00, 138.30it/s]\n"
     ]
    },
    {
     "name": "stdout",
     "output_type": "stream",
     "text": [
      "Tensors and operations will be done on cuda:0.\n"
     ]
    },
    {
     "name": "stderr",
     "output_type": "stream",
     "text": [
      "bart --- adverserial_pos_synonym_verb -- snli_1.0_test.jsonl: 100%|██████████| 10000/10000 [01:13<00:00, 136.44it/s]\n"
     ]
    },
    {
     "name": "stdout",
     "output_type": "stream",
     "text": [
      "Tensors and operations will be done on cuda:0.\n"
     ]
    },
    {
     "name": "stderr",
     "output_type": "stream",
     "text": [
      "minilm --- adverserial_pos_synonym_verb -- snli_1.0_test.jsonl: 100%|██████████| 10000/10000 [01:13<00:00, 136.17it/s]\n"
     ]
    }
   ],
   "source": [
    "import json\n",
    "from tqdm import tqdm\n",
    "from tokenization_methods.method_mapping import *\n",
    "from custom_tokenizer_abstract import *\n",
    "from custom_models import load_custom_class\n",
    "\n",
    "data_paths = [\n",
    "    \"data/multinli_1.0/multinli_1.0_dev_matched.jsonl\",\n",
    "    \"data/multinli_1.0/multinli_1.0_dev_mismatched.jsonl\",\n",
    "    \"data/snli_1.0/snli_1.0_test.jsonl\",\n",
    "]\n",
    "for data_path in data_paths:\n",
    "    data = {\n",
    "            \"label\": [],\n",
    "            \"sent1\": [],\n",
    "            \"sent2\": []\n",
    "        }\n",
    "    with open(data_path, \"r\") as file:\n",
    "        for line in file:\n",
    "            aux_dict = json.loads(line)\n",
    "            data[\"label\"] += [aux_dict[\"gold_label\"]]\n",
    "            data[\"sent1\"] += [aux_dict[\"sentence1\"]] # premise\n",
    "            data[\"sent2\"] += [aux_dict[\"sentence2\"]] # hypothesis\n",
    "\n",
    "    for tok_method in TOK_METHOD_MAP.values():\n",
    "        for model_name, model_parameters in MODEL_MAP.items():\n",
    "            tokenizer_nli = load_custom_class(model_parameters[\"model_link\"], load_model=False)\n",
    "            custom_tokenizer = CustomTokenizerGeneral(tokenizer_nli, tok_method, separator=model_parameters[\"separator_marker\"], special_space_token=model_parameters[\"special_space_token\"], max_length=model_parameters[\"max_length\"])\n",
    "            \n",
    "            total = len(data[\"sent1\"])\n",
    "            for premise, hypothesis in tqdm(zip(data[\"sent1\"], data[\"sent2\"]), total=total, desc=f\"{model_name} --- {tok_method.__name__} -- {data_path.split('/')[-1]}\"):\n",
    "                tok_ids = custom_tokenizer((premise, hypothesis))[\"input_ids\"]\n",
    "                assert len(tok_ids) <= model_parameters[\"max_length\"], f\"More than {model_parameters['max_length']} tokens; observed {len(tok_ids)} tokens.\"\n",
    "\n"
   ]
  },
  {
   "cell_type": "markdown",
   "metadata": {},
   "source": [
    "# Remarks\n",
    "* DistilRoBERTa, BART, and MiniLM2, while displaying tokens with a blank space in front, actually use \"Ġ\" in the vocabulary instead of \" \" - which we will call <tt>special_space_token</tt>.\n",
    "* These same models also have separation indicators (which we term as <tt>separation_marker</tt>), indicating which subwords were part of an original word (e.g., \"dog\" -> \"d ##og\"); though, the mentioned models do not indicate this separation, which we represent thus as \"\" and not modify the strings further.\n",
    "* DistilRoBERTa and MiniLM2 have the same type of tokenizer processor (based on RoBERTa), while BART has its own."
   ]
  },
  {
   "cell_type": "code",
   "execution_count": null,
   "metadata": {},
   "outputs": [],
   "source": [
    "test_sentence = (\"This is a test sentence to showcase\", \"How the tokenizers running natively separate tokens stylishly.\")\n",
    "for model_name, model_parameters in MODEL_MAP.items():\n",
    "    tokenizer_nli: AutoTokenizer = load_custom_class(model_parameters[\"model_link\"], load_model=False)\n",
    "    print([tokenizer_nli.decode(token) for token in tokenizer_nli.encode(*test_sentence)])"
   ]
  }
 ],
 "metadata": {
  "kernelspec": {
   "display_name": "facilex_caselaw",
   "language": "python",
   "name": "python3"
  },
  "language_info": {
   "codemirror_mode": {
    "name": "ipython",
    "version": 3
   },
   "file_extension": ".py",
   "mimetype": "text/x-python",
   "name": "python",
   "nbconvert_exporter": "python",
   "pygments_lexer": "ipython3",
   "version": "3.11.5"
  }
 },
 "nbformat": 4,
 "nbformat_minor": 2
}
