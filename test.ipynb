{
 "cells": [
  {
   "cell_type": "code",
   "execution_count": 1,
   "metadata": {},
   "outputs": [],
   "source": [
    "import torch\n",
    "from custom_models import load_custom_class\n",
    "device = torch.device(\"cuda:0\" if torch.cuda.is_available() else \"cpu\")\n",
    "# link = \"cross-encoder/nli-distilroberta-base\"\n",
    "link = \"cross-encoder/nli-MiniLM2-L6-H768\"\n",
    "tokenizer_nli, model_nli = load_custom_class(link, device=device)"
   ]
  },
  {
   "cell_type": "code",
   "execution_count": 2,
   "metadata": {},
   "outputs": [],
   "source": [
    "import json\n",
    "# data_path = \"data/multinli_1.0/multinli_1.0_dev_mismatched.jsonl\"\n",
    "# data_path = \"data/multinli_1.0/multinli_1.0_dev_matched.jsonl\"\n",
    "data_path = \"data/snli_1.0/snli_1.0_test.jsonl\"\n",
    "data = {\n",
    "        \"label\": [],\n",
    "        \"sent1\": [],\n",
    "        \"sent2\": [],\n",
    "        \"sent_combined\": []\n",
    "    }\n",
    "with open(data_path, \"r\") as file:\n",
    "    for line in file:\n",
    "        aux_dict = json.loads(line)\n",
    "        data[\"label\"] += [aux_dict[\"gold_label\"]]\n",
    "        data[\"sent1\"] += [aux_dict[\"sentence1\"]] # premise\n",
    "        data[\"sent2\"] += [aux_dict[\"sentence2\"]] # hypothesis\n",
    "        data[\"sent_combined\"] += [aux_dict[\"sentence1\"] + \" \" + aux_dict[\"sentence2\"]]\n"
   ]
  },
  {
   "cell_type": "code",
   "execution_count": 194,
   "metadata": {},
   "outputs": [
    {
     "data": {
      "text/plain": [
       "tensor([[0.5965, 0.0623, 0.3411]], device='cuda:0', grad_fn=<SoftmaxBackward0>)"
      ]
     },
     "execution_count": 194,
     "metadata": {},
     "output_type": "execute_result"
    }
   ],
   "source": [
    "import numpy as np\n",
    "import spacy\n",
    "from torch.nn import CosineSimilarity\n",
    "from nltk.corpus import wordnet\n",
    "cos = CosineSimilarity(dim=1)\n",
    "NLP = spacy.load(\"en_core_web_sm\")\n",
    "\n",
    "tokenizer_args_normal = {\n",
    "    \"return_tensors\": \"pt\",\n",
    "    \"padding\": \"longest\"\n",
    "}\n",
    "\n",
    "# 'NOUN', 'PROPN'\n",
    "# 'VERB'\n",
    "import re\n",
    "\n",
    "def find_synonym(token):\n",
    "    synonym_list = wordnet.synonyms(token)\n",
    "    for syn in synonym_list:\n",
    "        if syn:\n",
    "            return syn[0].replace(\"_\", \" \")\n",
    "    return token\n",
    "\n",
    "def change_synonym(text, pos_list):\n",
    "    pos_tokens = NLP(text)\n",
    "    aux_tok_list = []\n",
    "    for idx, token in enumerate(pos_tokens):\n",
    "        if token.pos_ in pos_list:\n",
    "            token = find_synonym(token.text)\n",
    "            token = \" \" + token if idx > 0 else token\n",
    "            aux_tok_list += [token]\n",
    "        else:\n",
    "            token = \" \" + token.text if token.pos_ != \"PUNCT\" and idx > 0 else token.text\n",
    "            aux_tok_list += [token]\n",
    "\n",
    "    aux_tok_list = \"\".join(aux_tok_list)\n",
    "    return aux_tok_list\n",
    "\n",
    "def get_prediction_model_outputs(premise_hypothesis, model_nli: callable, tokenizer: callable, is_custom=False, **tokenization_args) -> dict:\n",
    "    premise_hypothesis = change_synonym(premise_hypothesis, ['VERB'])\n",
    "    tok_output = tokenizer(premise_hypothesis, **tokenization_args)\n",
    "    device = torch.device(\"cuda:0\" if torch.cuda.is_available() else \"cpu\")\n",
    "    tok_output.to(device)\n",
    "    model_outputs = model_nli(**tok_output)\n",
    "\n",
    "    probs = torch.softmax(model_outputs.logits, dim=1)\n",
    "    return probs\n",
    "\n",
    "get_prediction_model_outputs(data[\"sent_combined\"][0], model_nli=model_nli, tokenizer=tokenizer_nli, **tokenizer_args_normal)"
   ]
  },
  {
   "cell_type": "code",
   "execution_count": 149,
   "metadata": {},
   "outputs": [
    {
     "data": {
      "text/plain": [
       "['ĠEVs']"
      ]
     },
     "execution_count": 149,
     "metadata": {},
     "output_type": "execute_result"
    }
   ],
   "source": [
    "tokenizer_nli.convert_ids_to_tokens([34857])"
   ]
  }
 ],
 "metadata": {
  "kernelspec": {
   "display_name": "facilex_caselaw",
   "language": "python",
   "name": "python3"
  },
  "language_info": {
   "codemirror_mode": {
    "name": "ipython",
    "version": 3
   },
   "file_extension": ".py",
   "mimetype": "text/x-python",
   "name": "python",
   "nbconvert_exporter": "python",
   "pygments_lexer": "ipython3",
   "version": "3.11.5"
  }
 },
 "nbformat": 4,
 "nbformat_minor": 2
}
